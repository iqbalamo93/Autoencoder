{
  "nbformat": 4,
  "nbformat_minor": 0,
  "metadata": {
    "colab": {
      "name": "DenoiseImages_Kr.ipynb",
      "provenance": [],
      "authorship_tag": "ABX9TyOcvfJLflPu3XokRuNW4elq",
      "include_colab_link": true
    },
    "kernelspec": {
      "name": "python3",
      "display_name": "Python 3"
    }
  },
  "cells": [
    {
      "cell_type": "markdown",
      "metadata": {
        "id": "view-in-github",
        "colab_type": "text"
      },
      "source": [
        "<a href=\"https://colab.research.google.com/github/iqbalamo93/Autoencoder/blob/master/DenoiseImages_Kr.ipynb\" target=\"_parent\"><img src=\"https://colab.research.google.com/assets/colab-badge.svg\" alt=\"Open In Colab\"/></a>"
      ]
    },
    {
      "cell_type": "code",
      "metadata": {
        "id": "W2i6R42QeL4h",
        "colab_type": "code",
        "colab": {
          "base_uri": "https://localhost:8080/",
          "height": 771
        },
        "outputId": "ea2d0a31-867d-494e-c1c6-90ee0331caec"
      },
      "source": [
        "import pandas as pd\n",
        "import numpy as np\n",
        "import matplotlib.pyplot as plt\n",
        "\n",
        "from tensorflow.keras.datasets import mnist\n",
        "\n",
        "(X_train, y_train), (X_test,y_test) = mnist.load_data()\n",
        "\n",
        "plt.imshow(X_train[4])\n",
        "\n",
        "X_train = X_train/255\n",
        "X_test  = X_test/255\n",
        "\n",
        "from tensorflow.keras.models import  Sequential\n",
        "from tensorflow.keras.layers import Dense, Flatten, Reshape\n",
        "\n",
        "from tensorflow.keras.optimizers import SGD\n",
        "\n",
        "X_train[1].shape\n",
        "\n",
        "X_train.shape\n",
        "\n",
        "y_train[4]\n",
        "\n",
        "encoder = Sequential()\n",
        "encoder.add(Flatten(input_shape=[28,28]))\n",
        "encoder.add(Dense(400,activation='relu'))\n",
        "encoder.add(Dense(200,activation='relu'))\n",
        "encoder.add(Dense(100,activation='relu'))\n",
        "encoder.add(Dense(50,activation='relu'))\n",
        "encoder.add(Dense(25,activation='relu'))\n",
        "\n",
        "decoder  = Sequential()\n",
        "decoder.add(Dense(50,input_shape=[25], activation = 'relu'))\n",
        "decoder.add(Dense(100, activation = 'relu'))\n",
        "decoder.add(Dense(200, activation = 'relu'))\n",
        "decoder.add(Dense(400, activation = 'relu'))\n",
        "decoder.add(Dense(784, activation = 'sigmoid'))\n",
        "decoder.add(Reshape([28,28]))\n",
        "\n",
        "autoencoder = Sequential([encoder, decoder])\n",
        "\n",
        "autoencoder.compile(loss='binary_crossentropy',\n",
        "                  optimizer=SGD(1.5),\n",
        "                  metrics=['accuracy'])\n",
        "\n",
        "autoencoder.fit(X_train, X_train,epochs=5,validation_data=(X_test, X_test))\n",
        "\n",
        "passed_images = autoencoder.predict(X_test[:10])\n",
        "\n",
        "n = 3\n",
        "plt.imshow(X_test[n])\n",
        "plt.title('Origninal Image')\n",
        "plt.show()\n",
        "plt.imshow(passed_images[n])\n",
        "plt.title('Reproduced Image')"
      ],
      "execution_count": 1,
      "outputs": [
        {
          "output_type": "stream",
          "text": [
            "Downloading data from https://storage.googleapis.com/tensorflow/tf-keras-datasets/mnist.npz\n",
            "11493376/11490434 [==============================] - 0s 0us/step\n",
            "Epoch 1/5\n",
            "1875/1875 [==============================] - 16s 8ms/step - loss: 0.2498 - accuracy: 0.0893 - val_loss: 0.2160 - val_accuracy: 0.1201\n",
            "Epoch 2/5\n",
            "1875/1875 [==============================] - 16s 8ms/step - loss: 0.1978 - accuracy: 0.1475 - val_loss: 0.1768 - val_accuracy: 0.1685\n",
            "Epoch 3/5\n",
            "1875/1875 [==============================] - 16s 8ms/step - loss: 0.1649 - accuracy: 0.1894 - val_loss: 0.1552 - val_accuracy: 0.2074\n",
            "Epoch 4/5\n",
            "1875/1875 [==============================] - 16s 8ms/step - loss: 0.1497 - accuracy: 0.2094 - val_loss: 0.1473 - val_accuracy: 0.2146\n",
            "Epoch 5/5\n",
            "1875/1875 [==============================] - 15s 8ms/step - loss: 0.1429 - accuracy: 0.2201 - val_loss: 0.1391 - val_accuracy: 0.2199\n"
          ],
          "name": "stdout"
        },
        {
          "output_type": "display_data",
          "data": {
            "image/png": "[encoded data removed]",
            "text/plain": [
              "<Figure size 432x288 with 1 Axes>"
            ]
          },
          "metadata": {
            "tags": [],
            "needs_background": "light"
          }
        },
        {
          "output_type": "execute_result",
          "data": {
            "text/plain": [
              "Text(0.5, 1.0, 'Reproduced Image')"
            ]
          },
          "metadata": {
            "tags": []
          },
          "execution_count": 1
        },
        {
          "output_type": "display_data",
          "data": {
            "image/png": "[encoded data removed]",
            "text/plain": [
              "<Figure size 432x288 with 1 Axes>"
            ]
          },
          "metadata": {
            "tags": [],
            "needs_background": "light"
          }
        }
      ]
    },
    {
      "cell_type": "code",
      "metadata": {
        "id": "0UgUFeAGgj8a",
        "colab_type": "code",
        "colab": {}
      },
      "source": [
        "from tensorflow.keras.layers import GaussianNoise"
      ],
      "execution_count": 2,
      "outputs": []
    },
    {
      "cell_type": "code",
      "metadata": {
        "id": "zztkPAMuoNFs",
        "colab_type": "code",
        "colab": {}
      },
      "source": [
        "sample = GaussianNoise(0.2)"
      ],
      "execution_count": 3,
      "outputs": []
    },
    {
      "cell_type": "code",
      "metadata": {
        "id": "zUv-V9-Lolh9",
        "colab_type": "code",
        "colab": {}
      },
      "source": [
        "noisey  =  sample(X_test[:10],training=True)"
      ],
      "execution_count": 6,
      "outputs": []
    },
    {
      "cell_type": "code",
      "metadata": {
        "id": "RgG2hIj7ovTw",
        "colab_type": "code",
        "colab": {
          "base_uri": "https://localhost:8080/",
          "height": 563
        },
        "outputId": "a78af244-e8fe-4ef9-af0f-b72ddde99cef"
      },
      "source": [
        "n = 3\n",
        "plt.imshow(X_test[n])\n",
        "plt.title('Origninal Image')\n",
        "plt.show()\n",
        "plt.imshow(noisey[n])\n",
        "plt.title('Noisey Image')"
      ],
      "execution_count": 7,
      "outputs": [
        {
          "output_type": "display_data",
          "data": {
            "image/png": "[encoded data removed]",
            "text/plain": [
              "<Figure size 432x288 with 1 Axes>"
            ]
          },
          "metadata": {
            "tags": [],
            "needs_background": "light"
          }
        },
        {
          "output_type": "execute_result",
          "data": {
            "text/plain": [
              "Text(0.5, 1.0, 'Noisey Image')"
            ]
          },
          "metadata": {
            "tags": []
          },
          "execution_count": 7
        },
        {
          "output_type": "display_data",
          "data": {
            "image/png": "[encoded data removed]",
            "text/plain": [
              "<Figure size 432x288 with 1 Axes>"
            ]
          },
          "metadata": {
            "tags": [],
            "needs_background": "light"
          }
        }
      ]
    },
    {
      "cell_type": "code",
      "metadata": {
        "id": "og9jNTT7pwLn",
        "colab_type": "code",
        "colab": {}
      },
      "source": [
        "import tensorflow as tf"
      ],
      "execution_count": 12,
      "outputs": []
    },
    {
      "cell_type": "code",
      "metadata": {
        "id": "1AQnr2ldpBco",
        "colab_type": "code",
        "colab": {}
      },
      "source": [
        "#Noise removal autoencoder\n",
        "tf.random.set_seed(101)\n",
        "\n",
        "encoder = Sequential()\n",
        "encoder.add(Flatten(input_shape=[28,28]))\n",
        "encoder.add(GaussianNoise(0.2))\n",
        "encoder.add(Dense(400,activation='relu'))\n",
        "encoder.add(Dense(200,activation='relu'))\n",
        "encoder.add(Dense(100,activation='relu'))\n",
        "encoder.add(Dense(50,activation='relu'))\n",
        "encoder.add(Dense(25,activation='relu'))"
      ],
      "execution_count": 13,
      "outputs": []
    },
    {
      "cell_type": "code",
      "metadata": {
        "id": "G5cgO-MRpjQD",
        "colab_type": "code",
        "colab": {}
      },
      "source": [
        "\n",
        "decoder  = Sequential()\n",
        "decoder.add(Dense(50,input_shape=[25], activation = 'relu'))\n",
        "decoder.add(Dense(100, activation = 'relu'))\n",
        "decoder.add(Dense(200, activation = 'relu'))\n",
        "decoder.add(Dense(400, activation = 'relu'))\n",
        "decoder.add(Dense(784, activation = 'sigmoid'))\n",
        "decoder.add(Reshape([28,28]))"
      ],
      "execution_count": 14,
      "outputs": []
    },
    {
      "cell_type": "code",
      "metadata": {
        "id": "sMKhO2Ucp5-k",
        "colab_type": "code",
        "colab": {}
      },
      "source": [
        "noise_remover = Sequential([encoder,decoder])\n"
      ],
      "execution_count": 15,
      "outputs": []
    },
    {
      "cell_type": "code",
      "metadata": {
        "id": "k0D9wK7lqAJ9",
        "colab_type": "code",
        "colab": {}
      },
      "source": [
        "noise_remover.compile(loss='binary_crossentropy',\n",
        "                      optimizer='adam',\n",
        "                      metrics=['accuracy'])"
      ],
      "execution_count": 16,
      "outputs": []
    },
    {
      "cell_type": "code",
      "metadata": {
        "id": "V5geU4tKqQxU",
        "colab_type": "code",
        "colab": {
          "base_uri": "https://localhost:8080/",
          "height": 312
        },
        "outputId": "0ab5196c-cac2-45ce-cbe3-94e921eb6b51"
      },
      "source": [
        "noise_remover.fit(X_train,X_train,epochs=8)"
      ],
      "execution_count": 17,
      "outputs": [
        {
          "output_type": "stream",
          "text": [
            "Epoch 1/8\n",
            "1875/1875 [==============================] - 17s 9ms/step - loss: 0.1664 - accuracy: 0.1840\n",
            "Epoch 2/8\n",
            "1875/1875 [==============================] - 17s 9ms/step - loss: 0.1262 - accuracy: 0.2344\n",
            "Epoch 3/8\n",
            "1875/1875 [==============================] - 17s 9ms/step - loss: 0.1182 - accuracy: 0.2495\n",
            "Epoch 4/8\n",
            "1875/1875 [==============================] - 17s 9ms/step - loss: 0.1145 - accuracy: 0.2561\n",
            "Epoch 5/8\n",
            "1875/1875 [==============================] - 17s 9ms/step - loss: 0.1115 - accuracy: 0.2617\n",
            "Epoch 6/8\n",
            "1875/1875 [==============================] - 18s 10ms/step - loss: 0.1091 - accuracy: 0.2652\n",
            "Epoch 7/8\n",
            "1875/1875 [==============================] - 17s 9ms/step - loss: 0.1072 - accuracy: 0.2679\n",
            "Epoch 8/8\n",
            "1875/1875 [==============================] - 17s 9ms/step - loss: 0.1055 - accuracy: 0.2714\n"
          ],
          "name": "stdout"
        },
        {
          "output_type": "execute_result",
          "data": {
            "text/plain": [
              "<tensorflow.python.keras.callbacks.History at 0x7f758975c160>"
            ]
          },
          "metadata": {
            "tags": []
          },
          "execution_count": 17
        }
      ]
    },
    {
      "cell_type": "code",
      "metadata": {
        "id": "3iMMSKgCqXmh",
        "colab_type": "code",
        "colab": {}
      },
      "source": [
        "ten_noisey_images = sample(X_test[:10],training=True)"
      ],
      "execution_count": 18,
      "outputs": []
    },
    {
      "cell_type": "code",
      "metadata": {
        "id": "4Z5ulXy5qm9O",
        "colab_type": "code",
        "colab": {}
      },
      "source": [
        "de_noised_images = noise_remover(ten_noisey_images)"
      ],
      "execution_count": 19,
      "outputs": []
    },
    {
      "cell_type": "code",
      "metadata": {
        "id": "l4bRxwesqyyn",
        "colab_type": "code",
        "colab": {
          "base_uri": "https://localhost:8080/",
          "height": 827
        },
        "outputId": "07c14039-6e77-4964-c758-6126e36fa4cf"
      },
      "source": [
        "n = 3\n",
        "plt.imshow(X_test[n])\n",
        "plt.title('Origninal Image')\n",
        "plt.show()\n",
        "plt.imshow(ten_noisey_images[n])\n",
        "plt.title('Noisey Image')\n",
        "plt.show()\n",
        "plt.imshow(de_noised_images[n])\n",
        "plt.title('removed_Noisey Image')"
      ],
      "execution_count": 21,
      "outputs": [
        {
          "output_type": "display_data",
          "data": {
            "image/png": "[encoded data removed]",
            "text/plain": [
              "<Figure size 432x288 with 1 Axes>"
            ]
          },
          "metadata": {
            "tags": [],
            "needs_background": "light"
          }
        },
        {
          "output_type": "display_data",
          "data": {
            "image/png": "[encoded data removed]",
            "text/plain": [
              "<Figure size 432x288 with 1 Axes>"
            ]
          },
          "metadata": {
            "tags": [],
            "needs_background": "light"
          }
        },
        {
          "output_type": "execute_result",
          "data": {
            "text/plain": [
              "Text(0.5, 1.0, 'removed_Noisey Image')"
            ]
          },
          "metadata": {
            "tags": []
          },
          "execution_count": 21
        },
        {
          "output_type": "display_data",
          "data": {
            "image/png": "[encoded data removed]",
            "text/plain": [
              "<Figure size 432x288 with 1 Axes>"
            ]
          },
          "metadata": {
            "tags": [],
            "needs_background": "light"
          }
        }
      ]
    },
    {
      "cell_type": "code",
      "metadata": {
        "id": "38F4KaXhrJoi",
        "colab_type": "code",
        "colab": {}
      },
      "source": [
        ""
      ],
      "execution_count": null,
      "outputs": []
    }
  ]
}